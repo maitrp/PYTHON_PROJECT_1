{
 "cells": [
  {
   "cell_type": "code",
   "execution_count": 1,
   "metadata": {},
   "outputs": [
    {
     "name": "stderr",
     "output_type": "stream",
     "text": [
      "c:\\Users\\maitp\\anaconda3\\envs\\PYTHON_PROJECT_1\\Lib\\site-packages\\tqdm\\auto.py:21: TqdmWarning: IProgress not found. Please update jupyter and ipywidgets. See https://ipywidgets.readthedocs.io/en/stable/user_install.html\n",
      "  from .autonotebook import tqdm as notebook_tqdm\n"
     ]
    }
   ],
   "source": [
    "from datasets import load_dataset\n",
    "import pandas as pd"
   ]
  },
  {
   "cell_type": "code",
   "execution_count": 2,
   "metadata": {},
   "outputs": [],
   "source": [
    "# Loading data\n",
    "dataset = load_dataset(\"lukebarousse/data_jobs\")\n",
    "df = dataset[\"train\"].to_pandas()"
   ]
  },
  {
   "cell_type": "code",
   "execution_count": 3,
   "metadata": {
    "tags": [
     "datetime"
    ]
   },
   "outputs": [],
   "source": [
    "# Cleaning up data\n",
    "df[\"job_posted_date\"] = pd.to_datetime(df[\"job_posted_date\"])"
   ]
  },
  {
   "cell_type": "markdown",
   "metadata": {
    "tags": [
     "SettingWithCopyWarning",
     "copy",
     "apply()"
    ]
   },
   "source": [
    "The `SettingWithCopyWarning` is still raised when using `df_notna = df.loc[df[\"salary_year_avg\"].notna()]` because `pandas` is not sure whether `df_notna` is a view or a copy of the original DataFrame. This is because the `loc[]` method can return either a view or a copy, depending on the specific indexing operation.\n",
    "\n",
    "**View**:\n",
    "\n",
    "- When selecting a **single** row/column using `loc[]`, `pandas` returns a view of the original DataFrame. <br> For example: `df.loc[0, 'column_name']` or `df.loc[:, 'column_name']`\n",
    "- When selecting a **range** of rows/columns using `loc[]`, `pandas` returns a view of the original DataFrame. <br> For example: `df.loc[0:10, 'column_name']` or `df.loc[:, 'column_name1':'column_name2']`\n",
    "\n",
    "**Copy**:\n",
    "\n",
    "- When selecting a subset of **rows & columns** using `loc[]`, `pandas` returns a copy of the original DataFrame. <br> For example: `df.loc[0:10, ['column_name1', 'column_name2']]`\n",
    "- When using a conditional statement to select rows using `loc[]`, `pandas` **likely** returns a copy of the original DataFrame. <br> For example: `df.loc[df['column_name'] > 0, 'column_name']`\n",
    "\n",
    "**Ambiguous cases**:\n",
    "\n",
    "- When using a **combination** of indexing operations, such as `df.loc[df['column_name'] > 0, 'column_name1':'column_name2']`, `pandas` may return **either** a view or a copy of the original DataFrame, depending on the specific indexing operation or DataFrame's internal structure\n",
    "\n",
    "The decision by `pandas` to return a view or copy is complex and depends on factors like:\n",
    "\n",
    "    Data types of all columns\n",
    "    Whether the original DataFrame is a view itself\n",
    "    The specific indexing operations used\n",
    "    Internal pandas representation (block manager, etc.)\n",
    "\n",
    "**--> Find the sources?** <br>\n",
    "<https://stackoverflow.com/questions/48173980/pandas-knowing-when-an-operation-affects-the-original-dataframe> <br>\n",
    "<https://stackoverflow.com/questions/23296282/what-rules-does-pandas-use-to-generate-a-view-vs-a-copy> <br>\n",
    "<https://stackoverflow.com/questions/57490268/pandas-returning-a-view-versus-a-copy-warning-when-constructing-a-new-datafra> <br>\n",
    "<https://www.dataquest.io/blog/settingwithcopywarning/>\n"
   ]
  },
  {
   "cell_type": "markdown",
   "metadata": {},
   "source": [
    "`apply()` to \"condition of row\":\n",
    "\n",
    "If using `axis=0` in `apply()`: `KeyError: 'job_title_short'` would be raised because when `project_salary()` is called, it receives a `Series` representing a single column, not a row with multiple columns including `job_title_short` and `salary_year_avg`. --> index names of the `DataFrame` become index labels of the newly created `Series`, in this case, a range starting from 0, with a step=1, and a length equal to the number of rows in the original `DataFrame`.\n",
    "\n",
    "If using `axis=1`: `apply()` iterates through each row of the `DataFrame`. For each row, it creates a `Series` object where the **column names become the index labels**, and the values in the row become the values of the `Series`. This `Series` is then passed as the `row` argument to `project_salary()`.\n"
   ]
  },
  {
   "cell_type": "code",
   "execution_count": 40,
   "metadata": {
    "tags": [
     "copy",
     "index",
     "apply()",
     "axis"
    ]
   },
   "outputs": [
    {
     "data": {
      "text/html": [
       "<div>\n",
       "<style scoped>\n",
       "    .dataframe tbody tr th:only-of-type {\n",
       "        vertical-align: middle;\n",
       "    }\n",
       "\n",
       "    .dataframe tbody tr th {\n",
       "        vertical-align: top;\n",
       "    }\n",
       "\n",
       "    .dataframe thead th {\n",
       "        text-align: right;\n",
       "    }\n",
       "</style>\n",
       "<table border=\"1\" class=\"dataframe\">\n",
       "  <thead>\n",
       "    <tr style=\"text-align: right;\">\n",
       "      <th></th>\n",
       "      <th>job_title_short</th>\n",
       "      <th>salary_year_avg</th>\n",
       "      <th>salary_year_inflated</th>\n",
       "    </tr>\n",
       "  </thead>\n",
       "  <tbody>\n",
       "    <tr>\n",
       "      <th>21993</th>\n",
       "      <td>Senior Data Scientist</td>\n",
       "      <td>196800.0</td>\n",
       "      <td>206640.00</td>\n",
       "    </tr>\n",
       "    <tr>\n",
       "      <th>21994</th>\n",
       "      <td>Data Engineer</td>\n",
       "      <td>64800.0</td>\n",
       "      <td>66744.00</td>\n",
       "    </tr>\n",
       "    <tr>\n",
       "      <th>21995</th>\n",
       "      <td>Data Scientist</td>\n",
       "      <td>115000.0</td>\n",
       "      <td>118450.00</td>\n",
       "    </tr>\n",
       "    <tr>\n",
       "      <th>21996</th>\n",
       "      <td>Data Analyst</td>\n",
       "      <td>105000.0</td>\n",
       "      <td>108150.00</td>\n",
       "    </tr>\n",
       "    <tr>\n",
       "      <th>21997</th>\n",
       "      <td>Data Scientist</td>\n",
       "      <td>136400.0</td>\n",
       "      <td>140492.00</td>\n",
       "    </tr>\n",
       "    <tr>\n",
       "      <th>21998</th>\n",
       "      <td>Data Engineer</td>\n",
       "      <td>139216.0</td>\n",
       "      <td>143392.48</td>\n",
       "    </tr>\n",
       "    <tr>\n",
       "      <th>21999</th>\n",
       "      <td>Data Engineer</td>\n",
       "      <td>150000.0</td>\n",
       "      <td>154500.00</td>\n",
       "    </tr>\n",
       "    <tr>\n",
       "      <th>22000</th>\n",
       "      <td>Data Scientist</td>\n",
       "      <td>221875.0</td>\n",
       "      <td>228531.25</td>\n",
       "    </tr>\n",
       "    <tr>\n",
       "      <th>22001</th>\n",
       "      <td>Data Scientist</td>\n",
       "      <td>157500.0</td>\n",
       "      <td>162225.00</td>\n",
       "    </tr>\n",
       "    <tr>\n",
       "      <th>22002</th>\n",
       "      <td>Data Scientist</td>\n",
       "      <td>157500.0</td>\n",
       "      <td>162225.00</td>\n",
       "    </tr>\n",
       "  </tbody>\n",
       "</table>\n",
       "</div>"
      ],
      "text/plain": [
       "             job_title_short  salary_year_avg  salary_year_inflated\n",
       "21993  Senior Data Scientist         196800.0             206640.00\n",
       "21994          Data Engineer          64800.0              66744.00\n",
       "21995         Data Scientist         115000.0             118450.00\n",
       "21996           Data Analyst         105000.0             108150.00\n",
       "21997         Data Scientist         136400.0             140492.00\n",
       "21998          Data Engineer         139216.0             143392.48\n",
       "21999          Data Engineer         150000.0             154500.00\n",
       "22000         Data Scientist         221875.0             228531.25\n",
       "22001         Data Scientist         157500.0             162225.00\n",
       "22002         Data Scientist         157500.0             162225.00"
      ]
     },
     "execution_count": 40,
     "metadata": {},
     "output_type": "execute_result"
    }
   ],
   "source": [
    "# inplace from reset_index() defaulting False creates a copy from original df that equals to using .copy() method\n",
    "df_notna = df.loc[df[\"salary_year_avg\"].notna()].reset_index(drop=True)\n",
    "\n",
    "\n",
    "def project_salary(row):\n",
    "    if \"Senior\" in row[\"job_title_short\"]:\n",
    "        return row[\"salary_year_avg\"] * 1.05\n",
    "    else:\n",
    "        return row[\"salary_year_avg\"] * 1.03\n",
    "\n",
    "\n",
    "df_notna[\"salary_year_inflated\"] = df_notna[\n",
    "    [\"job_title_short\", \"salary_year_avg\"]\n",
    "].apply(project_salary, axis=1)\n",
    "df_notna[[\"job_title_short\", \"salary_year_avg\", \"salary_year_inflated\"]].tail(10)"
   ]
  },
  {
   "cell_type": "code",
   "execution_count": null,
   "metadata": {},
   "outputs": [
    {
     "data": {
      "text/html": [
       "<div>\n",
       "<style scoped>\n",
       "    .dataframe tbody tr th:only-of-type {\n",
       "        vertical-align: middle;\n",
       "    }\n",
       "\n",
       "    .dataframe tbody tr th {\n",
       "        vertical-align: top;\n",
       "    }\n",
       "\n",
       "    .dataframe thead th {\n",
       "        text-align: right;\n",
       "    }\n",
       "</style>\n",
       "<table border=\"1\" class=\"dataframe\">\n",
       "  <thead>\n",
       "    <tr style=\"text-align: right;\">\n",
       "      <th></th>\n",
       "      <th>job_title_short</th>\n",
       "      <th>salary_year_avg</th>\n",
       "      <th>salary_year_projected</th>\n",
       "    </tr>\n",
       "  </thead>\n",
       "  <tbody>\n",
       "    <tr>\n",
       "      <th>21993</th>\n",
       "      <td>Senior Data Scientist</td>\n",
       "      <td>196800.0</td>\n",
       "      <td>206640.00</td>\n",
       "    </tr>\n",
       "    <tr>\n",
       "      <th>21994</th>\n",
       "      <td>Data Engineer</td>\n",
       "      <td>64800.0</td>\n",
       "      <td>66744.00</td>\n",
       "    </tr>\n",
       "    <tr>\n",
       "      <th>21995</th>\n",
       "      <td>Data Scientist</td>\n",
       "      <td>115000.0</td>\n",
       "      <td>118450.00</td>\n",
       "    </tr>\n",
       "    <tr>\n",
       "      <th>21996</th>\n",
       "      <td>Data Analyst</td>\n",
       "      <td>105000.0</td>\n",
       "      <td>108150.00</td>\n",
       "    </tr>\n",
       "    <tr>\n",
       "      <th>21997</th>\n",
       "      <td>Data Scientist</td>\n",
       "      <td>136400.0</td>\n",
       "      <td>140492.00</td>\n",
       "    </tr>\n",
       "    <tr>\n",
       "      <th>21998</th>\n",
       "      <td>Data Engineer</td>\n",
       "      <td>139216.0</td>\n",
       "      <td>143392.48</td>\n",
       "    </tr>\n",
       "    <tr>\n",
       "      <th>21999</th>\n",
       "      <td>Data Engineer</td>\n",
       "      <td>150000.0</td>\n",
       "      <td>154500.00</td>\n",
       "    </tr>\n",
       "    <tr>\n",
       "      <th>22000</th>\n",
       "      <td>Data Scientist</td>\n",
       "      <td>221875.0</td>\n",
       "      <td>228531.25</td>\n",
       "    </tr>\n",
       "    <tr>\n",
       "      <th>22001</th>\n",
       "      <td>Data Scientist</td>\n",
       "      <td>157500.0</td>\n",
       "      <td>162225.00</td>\n",
       "    </tr>\n",
       "    <tr>\n",
       "      <th>22002</th>\n",
       "      <td>Data Scientist</td>\n",
       "      <td>157500.0</td>\n",
       "      <td>162225.00</td>\n",
       "    </tr>\n",
       "  </tbody>\n",
       "</table>\n",
       "</div>"
      ],
      "text/plain": [
       "             job_title_short  salary_year_avg  salary_year_projected\n",
       "21993  Senior Data Scientist         196800.0              206640.00\n",
       "21994          Data Engineer          64800.0               66744.00\n",
       "21995         Data Scientist         115000.0              118450.00\n",
       "21996           Data Analyst         105000.0              108150.00\n",
       "21997         Data Scientist         136400.0              140492.00\n",
       "21998          Data Engineer         139216.0              143392.48\n",
       "21999          Data Engineer         150000.0              154500.00\n",
       "22000         Data Scientist         221875.0              228531.25\n",
       "22001         Data Scientist         157500.0              162225.00\n",
       "22002         Data Scientist         157500.0              162225.00"
      ]
     },
     "execution_count": 47,
     "metadata": {},
     "output_type": "execute_result"
    }
   ],
   "source": [
    "# More concise alternative by using lambda with apply() instead of a separate function\n",
    "df_notna[\"salary_year_projected\"] = df_notna.apply(\n",
    "    lambda row: (\n",
    "        row[\"salary_year_avg\"] * 1.05\n",
    "        if \"Senior\" in row[\"job_title_short\"]\n",
    "        else row[\"salary_year_avg\"] * 1.03\n",
    "    ),\n",
    "    axis=1,\n",
    ")\n",
    "df_notna[[\"job_title_short\", \"salary_year_avg\", \"salary_year_projected\"]].tail(10)"
   ]
  },
  {
   "cell_type": "markdown",
   "metadata": {},
   "source": [
    "`ValueError` from `ast.literal_eval()`: is likely due to the changing data type of the `job_skills` column after the first execution of the code. From the 2nd execution, the values in the `job_skills` are already in list type.\n",
    "\n",
    "ValueError when using `pd.notna()`: `pd.notna()` is designed to work with scalar values or NumPy arrays, applying it to a list directly can produce ambiguous results, leading to the ValueError.\n",
    "\n",
    "ValueError when using `job_skill is not None`: `ast.literal_eval()` is designed to work on strings, not on lists. This mismatch causes the ValueError: malformed node or string because it tries to parse a list object as a string.\n",
    "--> Solution: using a separate function to introduce a condition to check the data type before applying `ast.literal_eval()` and then call the funtion from inside `apply()`\n",
    "\n",
    "`pdb`, a Python debugger can be used to step through the code and see where the error is occurring\n"
   ]
  },
  {
   "cell_type": "code",
   "execution_count": 5,
   "metadata": {
    "tags": [
     "apply()",
     "ValueError",
     "try-except",
     "TypeError",
     "isinstance()",
     "except",
     "literal_eval"
    ]
   },
   "outputs": [],
   "source": [
    "import ast  # for converting a list-like object inside a string container to a list\n",
    "\n",
    "\n",
    "def convert_to_list(job_skill):\n",
    "    if isinstance(job_skill, (list, type(None))):\n",
    "        return job_skill\n",
    "    try:\n",
    "        return ast.literal_eval(job_skill)\n",
    "    except ValueError:\n",
    "        # might lose some granularity in inspecting potential issues with data when combining `ValueError` with `TypeError` in 1 `except` block --> can create 2 separate `except` blocks\n",
    "        return job_skill\n",
    "\n",
    "\n",
    "df[\"job_skills\"] = df[\"job_skills\"].apply(convert_to_list)"
   ]
  },
  {
   "cell_type": "code",
   "execution_count": 6,
   "metadata": {},
   "outputs": [
    {
     "data": {
      "text/plain": [
       "' Alternative less robust approach:\\ndef convert_to_list(job_skill):\\n    if isinstance(job_skill, str):  # or `if type(job_skill) == \"str\"`\\n        try:\\n            return ast.literal_eval(\\n                job_skill\\n            )  # might lose some granularity in understanding potential issues with data by combining `ValueError` with `TypeError` in `except` block\\n        except (ValueError, TypeError):\\n            return job_skill\\n    else:\\n        return job_skill\\n\\n\\ndf[\"job_skills\"] = df[\"job_skills\"].apply(convert_to_list)\\n'"
      ]
     },
     "execution_count": 6,
     "metadata": {},
     "output_type": "execute_result"
    }
   ],
   "source": [
    "\"\"\" Alternative less robust approach:\n",
    "def convert_to_list(job_skill):\n",
    "    if isinstance(job_skill, str):  # or `if type(job_skill) == \"str\"`\n",
    "        try:\n",
    "            return ast.literal_eval(\n",
    "                job_skill\n",
    "            )  # might lose some granularity in understanding potential issues with data by combining `ValueError` with `TypeError` in `except` block\n",
    "        except (ValueError, TypeError):\n",
    "            return job_skill\n",
    "    else:\n",
    "        return job_skill\n",
    "\n",
    "\n",
    "df[\"job_skills\"] = df[\"job_skills\"].apply(convert_to_list)\n",
    "\"\"\""
   ]
  },
  {
   "cell_type": "code",
   "execution_count": 7,
   "metadata": {},
   "outputs": [
    {
     "data": {
      "text/plain": [
       "' The least robust approach as it doesn\\'t handle other invalid Python literal\\ndf[\"job_skills\"] = df[\"job_skills\"].apply(\\n    lambda job_skill: ast.literal_eval(job_skill) if pd.notna(job_skill) else job_skill\\n)\\n'"
      ]
     },
     "execution_count": 7,
     "metadata": {},
     "output_type": "execute_result"
    }
   ],
   "source": [
    "\"\"\" The least robust approach as it doesn't handle other invalid Python literal\n",
    "df[\"job_skills\"] = df[\"job_skills\"].apply(\n",
    "    lambda job_skill: ast.literal_eval(job_skill) if pd.notna(job_skill) else job_skill\n",
    ")\n",
    "\"\"\""
   ]
  }
 ],
 "metadata": {
  "kernelspec": {
   "display_name": "PYTHON_PROJECT_1",
   "language": "python",
   "name": "python3"
  },
  "language_info": {
   "codemirror_mode": {
    "name": "ipython",
    "version": 3
   },
   "file_extension": ".py",
   "mimetype": "text/x-python",
   "name": "python",
   "nbconvert_exporter": "python",
   "pygments_lexer": "ipython3",
   "version": "3.12.7"
  }
 },
 "nbformat": 4,
 "nbformat_minor": 2
}
