{
 "cells": [
  {
   "cell_type": "markdown",
   "metadata": {},
   "source": [
    "### What are the most demanded skills for the top 3 most popular data roles?\n",
    "\n",
    "Methodology:\n",
    "\n",
    "1. Clean up `job_skills` column\n",
    "2. Calculate skill counts in the US based on `job_title_short`\n",
    "3. Calculate % skill\n",
    "4. Plot final findings\n"
   ]
  },
  {
   "cell_type": "code",
   "execution_count": 1,
   "metadata": {},
   "outputs": [
    {
     "name": "stderr",
     "output_type": "stream",
     "text": [
      "c:\\Users\\maitp\\anaconda3\\envs\\PYTHON_PROJECT_1\\Lib\\site-packages\\tqdm\\auto.py:21: TqdmWarning: IProgress not found. Please update jupyter and ipywidgets. See https://ipywidgets.readthedocs.io/en/stable/user_install.html\n",
      "  from .autonotebook import tqdm as notebook_tqdm\n"
     ]
    }
   ],
   "source": [
    "from datasets import load_dataset\n",
    "import pandas as pd\n",
    "import ast\n",
    "import matplotlib.pyplot as plt\n",
    "import seaborn as sns"
   ]
  },
  {
   "cell_type": "code",
   "execution_count": 2,
   "metadata": {},
   "outputs": [],
   "source": [
    "# Loading up data\n",
    "dataset = load_dataset(\"lukebarousse/data_jobs\")\n",
    "df = dataset[\"train\"].to_pandas()"
   ]
  },
  {
   "cell_type": "code",
   "execution_count": 3,
   "metadata": {},
   "outputs": [],
   "source": [
    "# Cleaning up data\n",
    "df[\"job_posted_date\"] = pd.to_datetime(df[\"job_posted_date\"])\n",
    "df[\"job_skills\"] = df[\"job_skills\"].apply(\n",
    "    lambda job_skill: ast.literal_eval(job_skill) if pd.notna(job_skill) else job_skill\n",
    ")"
   ]
  },
  {
   "cell_type": "code",
   "execution_count": 4,
   "metadata": {},
   "outputs": [
    {
     "data": {
      "text/html": [
       "<div>\n",
       "<style scoped>\n",
       "    .dataframe tbody tr th:only-of-type {\n",
       "        vertical-align: middle;\n",
       "    }\n",
       "\n",
       "    .dataframe tbody tr th {\n",
       "        vertical-align: top;\n",
       "    }\n",
       "\n",
       "    .dataframe thead th {\n",
       "        text-align: right;\n",
       "    }\n",
       "</style>\n",
       "<table border=\"1\" class=\"dataframe\">\n",
       "  <thead>\n",
       "    <tr style=\"text-align: right;\">\n",
       "      <th></th>\n",
       "      <th>job_skills</th>\n",
       "      <th>job_title_short</th>\n",
       "      <th>skill_count</th>\n",
       "    </tr>\n",
       "  </thead>\n",
       "  <tbody>\n",
       "    <tr>\n",
       "      <th>1209</th>\n",
       "      <td>python</td>\n",
       "      <td>Data Scientist</td>\n",
       "      <td>42379</td>\n",
       "    </tr>\n",
       "    <tr>\n",
       "      <th>1521</th>\n",
       "      <td>sql</td>\n",
       "      <td>Data Analyst</td>\n",
       "      <td>34452</td>\n",
       "    </tr>\n",
       "    <tr>\n",
       "      <th>1523</th>\n",
       "      <td>sql</td>\n",
       "      <td>Data Scientist</td>\n",
       "      <td>30034</td>\n",
       "    </tr>\n",
       "    <tr>\n",
       "      <th>455</th>\n",
       "      <td>excel</td>\n",
       "      <td>Data Analyst</td>\n",
       "      <td>27519</td>\n",
       "    </tr>\n",
       "    <tr>\n",
       "      <th>1243</th>\n",
       "      <td>r</td>\n",
       "      <td>Data Scientist</td>\n",
       "      <td>26022</td>\n",
       "    </tr>\n",
       "    <tr>\n",
       "      <th>...</th>\n",
       "      <td>...</td>\n",
       "      <td>...</td>\n",
       "      <td>...</td>\n",
       "    </tr>\n",
       "    <tr>\n",
       "      <th>245</th>\n",
       "      <td>clojure</td>\n",
       "      <td>Software Engineer</td>\n",
       "      <td>1</td>\n",
       "    </tr>\n",
       "    <tr>\n",
       "      <th>1738</th>\n",
       "      <td>vb.net</td>\n",
       "      <td>Senior Data Scientist</td>\n",
       "      <td>1</td>\n",
       "    </tr>\n",
       "    <tr>\n",
       "      <th>530</th>\n",
       "      <td>fortran</td>\n",
       "      <td>Machine Learning Engineer</td>\n",
       "      <td>1</td>\n",
       "    </tr>\n",
       "    <tr>\n",
       "      <th>1116</th>\n",
       "      <td>planner</td>\n",
       "      <td>Cloud Engineer</td>\n",
       "      <td>1</td>\n",
       "    </tr>\n",
       "    <tr>\n",
       "      <th>960</th>\n",
       "      <td>nltk</td>\n",
       "      <td>Senior Data Engineer</td>\n",
       "      <td>1</td>\n",
       "    </tr>\n",
       "  </tbody>\n",
       "</table>\n",
       "<p>1870 rows × 3 columns</p>\n",
       "</div>"
      ],
      "text/plain": [
       "     job_skills            job_title_short  skill_count\n",
       "1209     python             Data Scientist        42379\n",
       "1521        sql               Data Analyst        34452\n",
       "1523        sql             Data Scientist        30034\n",
       "455       excel               Data Analyst        27519\n",
       "1243          r             Data Scientist        26022\n",
       "...         ...                        ...          ...\n",
       "245     clojure          Software Engineer            1\n",
       "1738     vb.net      Senior Data Scientist            1\n",
       "530     fortran  Machine Learning Engineer            1\n",
       "1116    planner             Cloud Engineer            1\n",
       "960        nltk       Senior Data Engineer            1\n",
       "\n",
       "[1870 rows x 3 columns]"
      ]
     },
     "execution_count": 4,
     "metadata": {},
     "output_type": "execute_result"
    }
   ],
   "source": [
    "# Only get jobs in the US\n",
    "df_US = df.loc[df[\"job_country\"] == \"United States\"]\n",
    "df_US_explode = df_US.explode(\"job_skills\")\n",
    "df_US_skills_count = df_US_explode.groupby(\n",
    "    [\"job_skills\", \"job_title_short\"], as_index=False\n",
    ").agg(skill_count=(\"job_skills\", \"size\"))\n",
    "df_US_skills_count.sort_values(\"skill_count\", ascending=False, inplace=True)\n",
    "df_US_skills_count"
   ]
  },
  {
   "cell_type": "code",
   "execution_count": 5,
   "metadata": {},
   "outputs": [
    {
     "data": {
      "text/plain": [
       "job_title_short\n",
       "Data Analyst                 67816\n",
       "Data Scientist               58830\n",
       "Data Engineer                35080\n",
       "Senior Data Scientist        12946\n",
       "Senior Data Analyst          11791\n",
       "Senior Data Engineer          9289\n",
       "Business Analyst              7382\n",
       "Software Engineer             1814\n",
       "Machine Learning Engineer      921\n",
       "Cloud Engineer                 423\n",
       "Name: count, dtype: int64"
      ]
     },
     "execution_count": 5,
     "metadata": {},
     "output_type": "execute_result"
    }
   ],
   "source": [
    "# Get the total count of job postings\n",
    "df_US_jobs_count = df_US[\"job_title_short\"].value_counts()\n",
    "df_US_jobs_count"
   ]
  },
  {
   "cell_type": "code",
   "execution_count": null,
   "metadata": {},
   "outputs": [
    {
     "data": {
      "text/plain": [
       "1209    0.720364\n",
       "1521    0.508022\n",
       "1523    0.510522\n",
       "455     0.405789\n",
       "1243    0.442325\n",
       "          ...   \n",
       "245     0.000551\n",
       "1738    0.000077\n",
       "530     0.001086\n",
       "1116    0.002364\n",
       "960     0.000108\n",
       "Name: percent, Length: 1870, dtype: float64"
      ]
     },
     "execution_count": 28,
     "metadata": {},
     "output_type": "execute_result"
    }
   ],
   "source": [
    "# Alternative to adding % skill column\n",
    "df_US_skills_count[\"percent\"] = df_US_skills_count[\"skill_count\"] / df_US_skills_count[\n",
    "    \"job_title_short\"\n",
    "].map(df_US_jobs_count)\n",
    "\n",
    "# Another alternative by using .apply() on Series which doesn't require axis parameter\n",
    "\"\"\"\n",
    "df_US_skills_count[\"percent\"] = df_US_skills_count[\"skill_count\"] / df_US_skills_count[\n",
    "    \"job_title_short\"\n",
    "].apply(lambda row: df_US_jobs_count[row])\n",
    "\"\"\"\n",
    "df_US_skills_count[\"percent\"]"
   ]
  },
  {
   "cell_type": "code",
   "execution_count": 9,
   "metadata": {},
   "outputs": [
    {
     "data": {
      "image/png": "[encoded data removed]",
      "text/plain": [
       "<Figure size 640x480 with 3 Axes>"
      ]
     },
     "metadata": {},
     "output_type": "display_data"
    }
   ],
   "source": [
    "# Only select non-senior data jobs in the US\n",
    "job_titles = (\n",
    "    df_US_skills_count[\"job_title_short\"].value_counts().index[:3].sort_values()\n",
    ")\n",
    "fig, ax = plt.subplots(len(job_titles), 1)\n",
    "sns.set_theme(style=\"ticks\")\n",
    "for i, job_title in enumerate(job_titles):\n",
    "    df_US_plot = df_US_skills_count.loc[\n",
    "        df_US_skills_count[\"job_title_short\"] == job_title\n",
    "    ].head(5)\n",
    "\n",
    "    df_US_plot[\"skill_percent\"] = (\n",
    "        df_US_plot[\"skill_count\"] / df_US_jobs_count[job_title]\n",
    "    )\n",
    "\n",
    "    sns.barplot(\n",
    "        data=df_US_plot,\n",
    "        x=\"skill_percent\",\n",
    "        y=\"job_skills\",\n",
    "        ax=ax[i],\n",
    "        hue=\"skill_percent\",\n",
    "        palette=\"dark:b_r\",\n",
    "        legend=None,\n",
    "    )\n",
    "    ax[i].set_xlabel(None)\n",
    "    ax[i].set_ylabel(None)\n",
    "    ax[i].set_title(job_title)\n",
    "    ax[i].set_xlim(0, 0.8)\n",
    "    if i != len(job_titles) - 1:\n",
    "        ax[i].set_xticks([])\n",
    "    else:\n",
    "        ax[i].xaxis.set_major_formatter(plt.FuncFormatter(lambda x, _: f\"{x:.0%}\"))\n",
    "\n",
    "    for index, value in enumerate(df_US_plot[\"skill_percent\"]):\n",
    "        ax[i].text(\n",
    "            value + 0.005, index, f\"{value:.0%}\", va=\"center_baseline\", fontsize=11\n",
    "        )\n",
    "fig.suptitle(\"Likelihood of Top Data Skills in US Job Postings\", fontsize=15)\n",
    "fig.tight_layout()"
   ]
  }
 ],
 "metadata": {
  "kernelspec": {
   "display_name": "PYTHON_PROJECT_1",
   "language": "python",
   "name": "python3"
  },
  "language_info": {
   "codemirror_mode": {
    "name": "ipython",
    "version": 3
   },
   "file_extension": ".py",
   "mimetype": "text/x-python",
   "name": "python",
   "nbconvert_exporter": "python",
   "pygments_lexer": "ipython3",
   "version": "3.12.7"
  }
 },
 "nbformat": 4,
 "nbformat_minor": 2
}
